{
 "cells": [
  {
   "cell_type": "markdown",
   "id": "da2217de",
   "metadata": {},
   "source": [
    "Making animated plots of simulation trajectory data\n",
    "\n",
    "1. Plotting ice fraction as a function of temperature, with a time ticker in the corner\n",
    "2. Adding the rendered graphics from Ovito into the figure\n",
    "\n",
    "Next stage: Plotting density profile, and deltaV, as a function of distance from the substrate\n",
    "\n",
    "1. Make data file from the dump files: \n",
    "    Timestep, R1, R2, R3 .....\n",
    "    [step], [density at R1], [density at R2], .....\n",
    "2. Plot vertically with time and temperature ticker in the corner\n",
    "3. Add the rendered graphics from Ovito to the figure"
   ]
  },
  {
   "cell_type": "markdown",
   "id": "29468290",
   "metadata": {},
   "source": [
    "Logistics:\n",
    "\n",
    "Script should be modular -> specify which run to use\n",
    "Script will go into the specific run folder and find the data\n",
    "Inside the run folder should already be a folder containing all the rendered Ovito frames (this needs to be done ahead of time)"
   ]
  },
  {
   "cell_type": "code",
   "execution_count": 6,
   "id": "179d94d5",
   "metadata": {},
   "outputs": [
    {
     "name": "stdout",
     "output_type": "stream",
     "text": [
      "   timestep  time (ns)  temperature (K)  ice  liquid  total  ice/total\n",
      "0         0       0.00          225.000  781    3195   3976   0.196429\n",
      "1      1000       0.01          224.998  730    3246   3976   0.183602\n",
      "2      2000       0.02          224.995  710    3266   3976   0.178571\n",
      "3      3000       0.03          224.993  742    3234   3976   0.186620\n",
      "4      4000       0.04          224.990  709    3267   3976   0.178320\n"
     ]
    }
   ],
   "source": [
    "import numpy as np\n",
    "import pandas as pd\n",
    "import seaborn as sns\n",
    "import matplotlib\n",
    "import matplotlib.pyplot as plt\n",
    "import matplotlib.animation as animation\n",
    "\n",
    "test_data = \"mW/1_atm/analysis/test_1/ice_ratio.dat\"\n",
    "\n",
    "ice_ratio = pd.read_csv(test_data, sep='\\t', header=None, names=['timestep','time (ns)','temperature (K)','ice', 'liquid', 'total', 'ice/total'])\n",
    "\n",
    "print(ice_ratio.head())\n",
    "\n"
   ]
  },
  {
   "cell_type": "code",
   "execution_count": 8,
   "id": "74ebed21",
   "metadata": {},
   "outputs": [
    {
     "data": {
      "image/png": "[encoded data removed]",
      "text/plain": [
       "<Figure size 720x432 with 1 Axes>"
      ]
     },
     "metadata": {
      "needs_background": "light"
     },
     "output_type": "display_data"
    }
   ],
   "source": [
    "Writer = animation.writers['ffmpeg']\n",
    "writer = Writer(fps=20, metadata=dict(artist='Me'), bitrate=1800)\n",
    "\n",
    "fig = plt.figure(figsize=(10,6))\n",
    "plt.xlim(225, 205)\n",
    "plt.ylim(0, 1)\n",
    "plt.xlabel('Temperature (K)',fontsize=20)\n",
    "plt.ylabel('Ice/Total',fontsize=20)\n",
    "plt.title('Ice Ratio',fontsize=20)\n",
    "\n",
    "def animate(i):\n",
    "    data = ice_ratio.iloc[:int(i+1)] #select data range\n",
    "    p = sns.lineplot(x=data['temperature (K)'], y=data['ice/total'], data=data, color=\"r\")\n",
    "    p.tick_params(labelsize=17)\n",
    "    plt.setp(p.lines,linewidth=7)\n",
    "    \n",
    "ani = matplotlib.animation.FuncAnimation(fig, animate, frames=17, repeat=True)\n",
    "\n",
    "plt.show()"
   ]
  },
  {
   "cell_type": "code",
   "execution_count": null,
   "id": "742beb16",
   "metadata": {},
   "outputs": [],
   "source": []
  }
 ],
 "metadata": {
  "kernelspec": {
   "display_name": "Python 3 (ipykernel)",
   "language": "python",
   "name": "python3"
  },
  "language_info": {
   "codemirror_mode": {
    "name": "ipython",
    "version": 3
   },
   "file_extension": ".py",
   "mimetype": "text/x-python",
   "name": "python",
   "nbconvert_exporter": "python",
   "pygments_lexer": "ipython3",
   "version": "3.8.10"
  }
 },
 "nbformat": 4,
 "nbformat_minor": 5
}
